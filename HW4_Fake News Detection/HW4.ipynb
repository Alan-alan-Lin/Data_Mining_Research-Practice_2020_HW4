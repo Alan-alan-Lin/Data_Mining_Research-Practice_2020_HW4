{
 "cells": [
  {
   "cell_type": "code",
   "execution_count": 2,
   "metadata": {},
   "outputs": [],
   "source": [
    "import numpy as np\n",
    "import pandas as pd\n",
    "from sklearn.model_selection import train_test_split\n",
    "from sklearn.feature_extraction.text import TfidfVectorizer\n",
    "from sklearn.metrics import accuracy_score, confusion_matrix\n",
    "\n",
    "#Read the data\n",
    "train_df = pd.read_csv('train.csv', delimiter=\"\\t\")\n",
    "test_df = pd.read_csv('test.csv', delimiter=\"\\t\")\n",
    "test_label_df = pd.read_csv('sample_submission.csv')"
   ]
  },
  {
   "cell_type": "code",
   "execution_count": 3,
   "metadata": {},
   "outputs": [
    {
     "data": {
      "text/plain": [
       "0       1\n",
       "1       1\n",
       "2       0\n",
       "3       0\n",
       "4       0\n",
       "       ..\n",
       "4982    0\n",
       "4983    0\n",
       "4984    0\n",
       "4985    0\n",
       "4986    0\n",
       "Name: label, Length: 4987, dtype: object"
      ]
     },
     "execution_count": 3,
     "metadata": {},
     "output_type": "execute_result"
    }
   ],
   "source": [
    "new_train_df = train_df['text']\n",
    "train_df['label']"
   ]
  },
  {
   "cell_type": "code",
   "execution_count": 4,
   "metadata": {},
   "outputs": [
    {
     "data": {
      "text/html": [
       "<div>\n",
       "<style scoped>\n",
       "    .dataframe tbody tr th:only-of-type {\n",
       "        vertical-align: middle;\n",
       "    }\n",
       "\n",
       "    .dataframe tbody tr th {\n",
       "        vertical-align: top;\n",
       "    }\n",
       "\n",
       "    .dataframe thead th {\n",
       "        text-align: right;\n",
       "    }\n",
       "</style>\n",
       "<table border=\"1\" class=\"dataframe\">\n",
       "  <thead>\n",
       "    <tr style=\"text-align: right;\">\n",
       "      <th></th>\n",
       "      <th>id</th>\n",
       "      <th>text</th>\n",
       "    </tr>\n",
       "  </thead>\n",
       "  <tbody>\n",
       "    <tr>\n",
       "      <td>0</td>\n",
       "      <td>2</td>\n",
       "      <td>The 2017 Teen Choice Awards ceremony was held ...</td>\n",
       "    </tr>\n",
       "    <tr>\n",
       "      <td>1</td>\n",
       "      <td>3</td>\n",
       "      <td>The concert, part of “The Joshua Tree Tour,” w...</td>\n",
       "    </tr>\n",
       "    <tr>\n",
       "      <td>2</td>\n",
       "      <td>4</td>\n",
       "      <td>Selena Gomez refuses to talk to her mother abo...</td>\n",
       "    </tr>\n",
       "    <tr>\n",
       "      <td>3</td>\n",
       "      <td>5</td>\n",
       "      <td>This is worse than a lump of coal in your stoc...</td>\n",
       "    </tr>\n",
       "    <tr>\n",
       "      <td>4</td>\n",
       "      <td>6</td>\n",
       "      <td>Luann De Lesseps is going to rehab after her a...</td>\n",
       "    </tr>\n",
       "  </tbody>\n",
       "</table>\n",
       "</div>"
      ],
      "text/plain": [
       "   id                                               text\n",
       "0   2  The 2017 Teen Choice Awards ceremony was held ...\n",
       "1   3  The concert, part of “The Joshua Tree Tour,” w...\n",
       "2   4  Selena Gomez refuses to talk to her mother abo...\n",
       "3   5  This is worse than a lump of coal in your stoc...\n",
       "4   6  Luann De Lesseps is going to rehab after her a..."
      ]
     },
     "execution_count": 4,
     "metadata": {},
     "output_type": "execute_result"
    }
   ],
   "source": [
    "#Get shape and head\n",
    "new_test_df = test_df['text']\n",
    "test_df.head()"
   ]
  },
  {
   "cell_type": "code",
   "execution_count": 5,
   "metadata": {},
   "outputs": [
    {
     "data": {
      "text/html": [
       "<div>\n",
       "<style scoped>\n",
       "    .dataframe tbody tr th:only-of-type {\n",
       "        vertical-align: middle;\n",
       "    }\n",
       "\n",
       "    .dataframe tbody tr th {\n",
       "        vertical-align: top;\n",
       "    }\n",
       "\n",
       "    .dataframe thead th {\n",
       "        text-align: right;\n",
       "    }\n",
       "</style>\n",
       "<table border=\"1\" class=\"dataframe\">\n",
       "  <thead>\n",
       "    <tr style=\"text-align: right;\">\n",
       "      <th></th>\n",
       "      <th>id</th>\n",
       "      <th>label</th>\n",
       "    </tr>\n",
       "  </thead>\n",
       "  <tbody>\n",
       "    <tr>\n",
       "      <td>0</td>\n",
       "      <td>2</td>\n",
       "      <td>1</td>\n",
       "    </tr>\n",
       "    <tr>\n",
       "      <td>1</td>\n",
       "      <td>3</td>\n",
       "      <td>1</td>\n",
       "    </tr>\n",
       "    <tr>\n",
       "      <td>2</td>\n",
       "      <td>4</td>\n",
       "      <td>0</td>\n",
       "    </tr>\n",
       "    <tr>\n",
       "      <td>3</td>\n",
       "      <td>5</td>\n",
       "      <td>0</td>\n",
       "    </tr>\n",
       "    <tr>\n",
       "      <td>4</td>\n",
       "      <td>6</td>\n",
       "      <td>0</td>\n",
       "    </tr>\n",
       "  </tbody>\n",
       "</table>\n",
       "</div>"
      ],
      "text/plain": [
       "   id  label\n",
       "0   2      1\n",
       "1   3      1\n",
       "2   4      0\n",
       "3   5      0\n",
       "4   6      0"
      ]
     },
     "execution_count": 5,
     "metadata": {},
     "output_type": "execute_result"
    }
   ],
   "source": [
    "#Get shape and head\n",
    "test_label_df.head()"
   ]
  },
  {
   "cell_type": "code",
   "execution_count": 6,
   "metadata": {},
   "outputs": [],
   "source": [
    "#去除停頓詞stop words\n",
    "#使用sklearn內建的功能\n",
    "# from sklearn.feature_extraction.text import CountVectorizer\n",
    "# vectorizer_rmsw = CountVectorizer(stop_words='english')\n",
    "# new_train_df = vectorizer_rmsw.fit_transform(train_df['text'])\n",
    "# print(vectorizer_rmsw.get_feature_names())\n",
    "#print(new_train_df)"
   ]
  },
  {
   "cell_type": "code",
   "execution_count": 7,
   "metadata": {},
   "outputs": [],
   "source": [
    "# vectorizer_rmsw_2 = CountVectorizer(stop_words='english')\n",
    "# new_test_df = vectorizer_rmsw_2.fit_transform(test_df['text'])\n",
    "# print(vectorizer_rmsw_2.get_feature_names())"
   ]
  },
  {
   "cell_type": "code",
   "execution_count": 8,
   "metadata": {},
   "outputs": [
    {
     "name": "stdout",
     "output_type": "stream",
     "text": [
      "<class 'numpy.int64'>\n"
     ]
    }
   ],
   "source": [
    "# Change the labels\n",
    "train_df.loc[(train_df['label'] == 'label') , ['label']] = '0'\n",
    "train_df['label'] = pd.to_numeric(train_df['label'])\n",
    "train_label = train_df['label']\n",
    "test_label_df['label'] = pd.to_numeric(test_label_df['label'])\n",
    "test_label = test_label_df['label']\n",
    "#去除停頓詞stop words\n",
    "#文字探勘前處理，將文字轉換成向量，方法為tf-idf\n",
    "#Initialize a TfidfVectorizer\n",
    "tfidf_vectorizer = TfidfVectorizer(stop_words='english', max_df=0.7)\n",
    "#Fit and transform train set, transform test set\n",
    "tfidf_train = tfidf_vectorizer.fit_transform(new_train_df)\n",
    "tfidf_test = tfidf_vectorizer.transform(new_test_df)\n",
    "print(type(train_label[0]))"
   ]
  },
  {
   "cell_type": "code",
   "execution_count": 9,
   "metadata": {},
   "outputs": [
    {
     "name": "stdout",
     "output_type": "stream",
     "text": [
      "準確率： 0.5012028869286287\n",
      "confusion_matrix:      0    1\n",
      "0  437  193\n",
      "1  429  188\n",
      "              precision    recall  f1-score   support\n",
      "\n",
      "           0       0.50      0.69      0.58       630\n",
      "           1       0.49      0.30      0.38       617\n",
      "\n",
      "    accuracy                           0.50      1247\n",
      "   macro avg       0.50      0.50      0.48      1247\n",
      "weighted avg       0.50      0.50      0.48      1247\n",
      "\n"
     ]
    }
   ],
   "source": [
    "import xgboost as xgb\n",
    "import sklearn.metrics as metrics\n",
    "tfidf_train_weight = tfidf_train.toarray()  \n",
    "tfidf_test_weight = tfidf_test.toarray()\n",
    "# import xgboost as xgb\n",
    "# xgb_params = {'eta': 0.3, \n",
    "#               'max_depth': 5, \n",
    "#               'subsample': 0.8, \n",
    "#               'colsample_bytree': 0.8, \n",
    "#               'objective': 'binary:logistic', \n",
    "#               'eval_metric': 'auc', \n",
    "#               'seed': 23\n",
    "#              }\n",
    "# d_train = xgb.DMatrix(tfidf_train, label = train_label)\n",
    "# d_test = xgb.DMatrix(tfidf_test, label = test_label)\n",
    "\n",
    "# #xgboost模型構建\n",
    "# watchlist = [(d_test, 'valid')]\n",
    "# xgb_model = xgb.train(xgb_params, d_train, 200, watchlist, verbose_eval=False, early_stopping_rounds=30)\n",
    "\n",
    "#基於Scikit-learn接口的分類\n",
    "#訓練模型\n",
    "model = xgb.XGBClassifier(max_depth=6, learning_rate=0.1, n_estimators=100, objective='binary:logistic')\n",
    "model.fit(tfidf_train_weight, train_label)\n",
    "y_predict = model.predict(tfidf_test_weight)\n",
    "\n",
    "#模型預測\n",
    "# y_predict = xgb_model.predict(d_test)  \n",
    "confusion_matrix = metrics.confusion_matrix(test_label, y_predict)\n",
    "df = pd.DataFrame(confusion_matrix)\n",
    "print('準確率：', metrics.accuracy_score(test_label, y_predict))\n",
    "print('confusion_matrix:', df)\n",
    "print(metrics.classification_report(test_label, y_predict))"
   ]
  },
  {
   "cell_type": "code",
   "execution_count": 10,
   "metadata": {},
   "outputs": [
    {
     "name": "stdout",
     "output_type": "stream",
     "text": [
      "Requirement already satisfied: lightgbm in c:\\programdata\\anaconda3\\lib\\site-packages (3.1.0)\n",
      "Requirement already satisfied: scipy in c:\\programdata\\anaconda3\\lib\\site-packages (from lightgbm) (1.3.1)\n",
      "Requirement already satisfied: scikit-learn!=0.22.0 in c:\\programdata\\anaconda3\\lib\\site-packages (from lightgbm) (0.21.3)\n",
      "Requirement already satisfied: numpy in c:\\users\\alan_lin\\appdata\\roaming\\python\\python37\\site-packages (from lightgbm) (1.16.3)\n",
      "Requirement already satisfied: joblib>=0.11 in c:\\programdata\\anaconda3\\lib\\site-packages (from scikit-learn!=0.22.0->lightgbm) (0.13.2)\n"
     ]
    }
   ],
   "source": [
    "!pip install lightgbm"
   ]
  },
  {
   "cell_type": "code",
   "execution_count": 11,
   "metadata": {},
   "outputs": [
    {
     "name": "stdout",
     "output_type": "stream",
     "text": [
      "[100]\tvalid_0's multi_logloss: 0.978093\n",
      "[200]\tvalid_0's multi_logloss: 1.08498\n",
      "[300]\tvalid_0's multi_logloss: 1.16466\n",
      "[400]\tvalid_0's multi_logloss: 1.24869\n",
      "[500]\tvalid_0's multi_logloss: 1.32035\n",
      "[600]\tvalid_0's multi_logloss: 1.39599\n",
      "[700]\tvalid_0's multi_logloss: 1.46823\n",
      "[800]\tvalid_0's multi_logloss: 1.53637\n",
      "[900]\tvalid_0's multi_logloss: 1.60088\n",
      "[1000]\tvalid_0's multi_logloss: 1.66687\n",
      "準確率： 0.4963913392141139\n",
      "     0    1\n",
      "0  409  221\n",
      "1  407  210\n",
      "              precision    recall  f1-score   support\n",
      "\n",
      "           0       0.50      0.65      0.57       630\n",
      "           1       0.49      0.34      0.40       617\n",
      "\n",
      "    accuracy                           0.50      1247\n",
      "   macro avg       0.49      0.49      0.48      1247\n",
      "weighted avg       0.49      0.50      0.48      1247\n",
      "\n"
     ]
    }
   ],
   "source": [
    "import lightgbm as lgb\n",
    "#創建成lgb特徵的數據集格式\n",
    "lgb_train = lgb.Dataset(tfidf_train_weight, train_label)\n",
    "lgb_test = lgb.Dataset(tfidf_test_weight, test_label, reference=lgb_train)\n",
    "#建lightGBM模型\n",
    "params = {'max_depth': 5, 'min_data_in_leaf': 20, 'num_leaves': 35,\n",
    "          'learning_rate': 0.1, 'lambda_l1': 0.1, 'lambda_l2': 0.2,\n",
    "          'objective': 'multiclass', 'num_class': 3, 'verbose': -1}\n",
    "#設置迭代次數，默認為100，通常設置為100+\n",
    "num_boost_round = 1000\n",
    "#訓練lightGBM模型\n",
    "gbm = lgb.train(params, lgb_train, num_boost_round, verbose_eval=100, valid_sets=lgb_test)\n",
    "#預測\n",
    "y_pred = gbm.predict(tfidf_test_weight, num_iteration=gbm.best_iteration)\n",
    "y_predict = np.argmax(y_pred, axis=1)  # 獲得最大概率對應的標籤\n",
    "confusion_matrix = metrics.confusion_matrix(test_label, y_predict)\n",
    "df = pd.DataFrame(confusion_matrix)\n",
    "print('準確率：', metrics.accuracy_score(test_label, y_predict))\n",
    "print(df)\n",
    "print(metrics.classification_report(test_label, y_predict))"
   ]
  },
  {
   "cell_type": "code",
   "execution_count": 12,
   "metadata": {},
   "outputs": [
    {
     "name": "stdout",
     "output_type": "stream",
     "text": [
      "準確率： 0.49478748997594224\n",
      "     0    1\n",
      "0  409  221\n",
      "1  407  210\n",
      "              precision    recall  f1-score   support\n",
      "\n",
      "           0       0.50      0.65      0.57       630\n",
      "           1       0.49      0.34      0.40       617\n",
      "\n",
      "    accuracy                           0.50      1247\n",
      "   macro avg       0.49      0.49      0.48      1247\n",
      "weighted avg       0.49      0.50      0.48      1247\n",
      "\n"
     ]
    }
   ],
   "source": [
    "from sklearn.ensemble import GradientBoostingClassifier\n",
    "clf = GradientBoostingClassifier(n_estimators=100, learning_rate=1.0,\n",
    "      max_depth=1, random_state=0)\n",
    "clf.fit(tfidf_train_weight, train_label)\n",
    "clf.predict(tfidf_test_weight)\n",
    "clf.score(tfidf_test_weight, test_label)\n",
    "confusion_matrix = metrics.confusion_matrix(test_label, y_predict)\n",
    "df = pd.DataFrame(confusion_matrix)\n",
    "print('準確率：', clf.score(tfidf_test_weight, test_label))\n",
    "print(df)\n",
    "print(metrics.classification_report(test_label, y_predict))"
   ]
  },
  {
   "cell_type": "code",
   "execution_count": null,
   "metadata": {},
   "outputs": [],
   "source": []
  }
 ],
 "metadata": {
  "kernelspec": {
   "display_name": "Python 3",
   "language": "python",
   "name": "python3"
  },
  "language_info": {
   "codemirror_mode": {
    "name": "ipython",
    "version": 3
   },
   "file_extension": ".py",
   "mimetype": "text/x-python",
   "name": "python",
   "nbconvert_exporter": "python",
   "pygments_lexer": "ipython3",
   "version": "3.7.4"
  }
 },
 "nbformat": 4,
 "nbformat_minor": 2
}
